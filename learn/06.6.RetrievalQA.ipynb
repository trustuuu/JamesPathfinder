{
 "cells": [
  {
   "cell_type": "code",
   "execution_count": 11,
   "metadata": {},
   "outputs": [
    {
     "data": {
      "text/plain": [
       "'Here are some expressions related to human character:\\n\\n1. who are you similar in nature to\\n2. it’s not my seen\\n3. turn a blind eye\\n4. he let me down\\n5. they went on and on\\n6. neat and tidy\\n7. obsessive\\n8. uptight\\n9. laid-back\\n\\nThese expressions describe various aspects of human character, behavior, and personality.'"
      ]
     },
     "execution_count": 11,
     "metadata": {},
     "output_type": "execute_result"
    }
   ],
   "source": [
    "from langchain.chat_models import ChatOpenAI\n",
    "from langchain.document_loaders import UnstructuredExcelLoader\n",
    "from langchain.text_splitter import CharacterTextSplitter, RecursiveCharacterTextSplitter\n",
    "from langchain.embeddings import OpenAIEmbeddings, CacheBackedEmbeddings\n",
    "from langchain.vectorstores import Chroma\n",
    "from langchain.storage import LocalFileStore\n",
    "from langchain.chains import RetrievalQA\n",
    "\n",
    "\n",
    "llm = ChatOpenAI()\n",
    "cache_dir = LocalFileStore(\"./.cache/\")\n",
    "\n",
    "# splitter = CharacterTextSplitter.from_tiktoken_encoder(\n",
    "#     separator=\"\\n\",\n",
    "#     chunk_size=600,\n",
    "#     chunk_overlap=100,\n",
    "# )\n",
    "# Split by newline, treating each line as a separate chunk\n",
    "splitter = RecursiveCharacterTextSplitter(\n",
    "    chunk_size=1000,  # Adjust based on your requirements\n",
    "    chunk_overlap=50,  # Overlap between chunks\n",
    "    separators=[\"\\n\"]  # Split based on newlines (you can add other separators too)\n",
    ")\n",
    "\n",
    "loader = UnstructuredExcelLoader(\"./ETC(yschang-Total).xlsx\")\n",
    "\n",
    "docs = loader.load_and_split(text_splitter=splitter)\n",
    "\n",
    "embeddings = OpenAIEmbeddings()\n",
    "\n",
    "cached_embeddings = CacheBackedEmbeddings.from_bytes_store(embeddings, cache_dir)\n",
    "\n",
    "\n",
    "vectorstore = Chroma.from_documents(docs, cached_embeddings)\n",
    "\n",
    "chain = RetrievalQA.from_chain_type(\n",
    "    llm=llm,\n",
    "    chain_type=\"stuff\",\n",
    "    retriever=vectorstore.as_retriever()\n",
    ")\n",
    "chain.run(\"Could you find expression for human character?\")"
   ]
  },
  {
   "cell_type": "code",
   "execution_count": 13,
   "metadata": {},
   "outputs": [
    {
     "name": "stdout",
     "output_type": "stream",
     "text": [
      "3.45.2\n"
     ]
    },
    {
     "data": {
      "text/plain": [
       "\"Here are some expressions related to human character:\\n\\n- Close but no cigar (implied failure)\\n- Moral dilemma\\n- Morals and values\\n- Morally wrong\\n- Play the devil's advocate\\n- Where do you draw the line\\n- Obsessive\\n- Uptight\\n- Laid-back\\n\\nI hope these help!\""
      ]
     },
     "execution_count": 13,
     "metadata": {},
     "output_type": "execute_result"
    }
   ],
   "source": [
    "import sqlite3\n",
    "print(sqlite3.sqlite_version)\n",
    "\n",
    "vectorstore = Chroma.from_documents(docs, cached_embeddings)\n",
    "\n",
    "chain = RetrievalQA.from_chain_type(\n",
    "    llm=llm,\n",
    "    chain_type=\"stuff\",\n",
    "    retriever=vectorstore.as_retriever()\n",
    ")\n",
    "chain.run(\"Could you find expression for human character?\")"
   ]
  },
  {
   "cell_type": "code",
   "execution_count": 16,
   "metadata": {},
   "outputs": [
    {
     "data": {
      "text/plain": [
       "'Certainly! Here are 10 questions and answers based on the provided document:\\n\\n1. **Question:** What types of lines are commonly used in data visualization?\\n   **Answer:** Dotted line, solid line, fluctuating line, and broken line are commonly used in data visualization. For example, a fluctuating line might represent stock prices over time.\\n\\n2. **Question:** How can you describe a pie chart, a bar graph, and a line graph?\\n   **Answer:** A pie chart shows proportions, a bar graph compares categories, and a line graph displays trends over time. For instance, a line graph could illustrate population growth over decades.\\n\\n3. **Question:** What do phrases like \"climbed slightly\" and \"dropped markedly\" indicate in data analysis?\\n   **Answer:** These phrases indicate the degree of change in a dataset. For example, \"climbed slightly\" could describe a small increase in sales figures over a month.\\n\\n4. **Question:** How is a situation typically described when data shows a temporary decrease followed by recovery?\\n   **Answer:** A situation like this is often described as having \"dipped down and recovered,\" suggesting a temporary setback that was overcome. An example could be a company\\'s profitability during a recession.\\n\\n5. **Question:** When might the term \"close but no cigar\" be used in a business context?\\n   **Answer:** This phrase is used to imply failure, so it could be used when a project almost meets its goals but falls short. For example, a marketing campaign that doesn\\'t quite reach its target audience.\\n\\n6. **Question:** What does it mean to \"pull an all-nighter\" at work?\\n   **Answer:** To \"pull an all-nighter\" means to work through the night without sleeping. An example could be a team staying up late to meet a project deadline.\\n\\n7. **Question:** In what context might someone be described as a \"workhorse\"?\\n   **Answer:** A \"workhorse\" is someone who is known for their hard work and dedication. For instance, an employee who consistently takes on extra tasks to help the team.\\n\\n8. **Question:** How is the phrase \"keep my fingers crossed for something\" typically used?\\n   **Answer:** This phrase is used to express hope or good wishes for a positive outcome. For example, a manager might say this before an important client meeting.\\n\\n9. **Question:** When is the term \"commencing\" commonly used?\\n   **Answer:** \"Commencing\" is often used to indicate the start of an event or activity, like a graduation ceremony. For example, a speaker might say, \"We are commencing the award ceremony.\"\\n\\n10. **Question:** What does it mean to \"play the devil\\'s advocate\" in a discussion?\\n    **Answer:** To \"play the devil\\'s advocate\" means to argue against a popular opinion for the sake of debate. For example, a team member might do this to explore different perspectives on a project decision.'"
      ]
     },
     "execution_count": 16,
     "metadata": {},
     "output_type": "execute_result"
    }
   ],
   "source": [
    "chain.run(\"Could you make 10 questions and answer from document? and make useful examples per question\")"
   ]
  },
  {
   "cell_type": "code",
   "execution_count": 17,
   "metadata": {},
   "outputs": [
    {
     "data": {
      "text/plain": [
       "\"I can't take on the role 맡다\\n내가 할 수 있는 것 이상을 할 수 없다.\\n메이크업을 좀 줄여라\\n뭔가를 완전히 멈추게 하다\\n멈추게는 안하지만 방해하는 것\\n쎄게 하지말고 살짝해라 (안마, 스포츠)\\n살살일해라\\npositive한 것에 얘기할 때\\nnegative한 것에 얘기할 때\\n책을 넘기다\\n밸런타인 데이에 혼자인 것은 힘들다\\n마음 깊은 곳에 있는 감정은 슬픔이다\\n프로포즈하다\\n결혼 후 권태기\\n그냥 믿어줬다\\n누구 말이 맞는지 모르겠다\\n점수를 잘 받아야 한다\\n너무 늦었다\\n상황에 따라 변하는\\n리더 역할을 하다\\n~되도록 ~척하다\\n절대 진지하지 않은 사람\\n뭐든지 자기가 해서 컨트롤할 수 있어야 한다\\n그냥 내가 했다\\n다른 사람 도움 없이 내가 했다\\n성인을 기쁘게 하는 사람\\n최소한의 일만 하는 사람\\n최선을 다해 시도해보겠다\\n더 나은 결과를 위해 노력하다\\n반씩 나눠 일을 하자\\n나를 깨우는 것\""
      ]
     },
     "execution_count": 17,
     "metadata": {},
     "output_type": "execute_result"
    }
   ],
   "source": [
    "chain.run(\"Could you change to Korean\")"
   ]
  }
 ],
 "metadata": {
  "kernelspec": {
   "display_name": "env",
   "language": "python",
   "name": "python3"
  },
  "language_info": {
   "codemirror_mode": {
    "name": "ipython",
    "version": 3
   },
   "file_extension": ".py",
   "mimetype": "text/x-python",
   "name": "python",
   "nbconvert_exporter": "python",
   "pygments_lexer": "ipython3",
   "version": "3.11.11"
  }
 },
 "nbformat": 4,
 "nbformat_minor": 2
}
