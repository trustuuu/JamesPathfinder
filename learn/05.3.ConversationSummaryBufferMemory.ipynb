{
 "cells": [
  {
   "cell_type": "code",
   "execution_count": 3,
   "metadata": {},
   "outputs": [
    {
     "data": {
      "text/plain": [
       "{'history': [HumanMessage(content=\"Hi I'm YS Chang, I live in Vancouver\"),\n",
       "  AIMessage(content='Wow that is so cool!'),\n",
       "  HumanMessage(content='Vancouver is so pretty'),\n",
       "  AIMessage(content='I wish I could go!!!'),\n",
       "  HumanMessage(content='Weather is so good too'),\n",
       "  AIMessage(content='I bet'),\n",
       "  HumanMessage(content='There are a lot of tree and flowers'),\n",
       "  AIMessage(content='Wow, I want to see there someday.')]}"
      ]
     },
     "execution_count": 3,
     "metadata": {},
     "output_type": "execute_result"
    }
   ],
   "source": [
    "from langchain.memory import ConversationSummaryBufferMemory\n",
    "from langchain.chat_models import ChatOpenAI\n",
    "\n",
    "llm = ChatOpenAI(temperature=0.1)\n",
    "memory = ConversationSummaryBufferMemory(\n",
    "    llm=llm,\n",
    "    max_token_limit=100,\n",
    "    return_messages=True,\n",
    ")\n",
    "\n",
    "\n",
    "def add_message(input, output):\n",
    "    memory.save_context({\"input\": input}, {\"output\": output})\n",
    "\n",
    "\n",
    "def get_history():\n",
    "    return memory.load_memory_variables({})\n",
    "\n",
    "\n",
    "add_message(\"Hi I'm YS Chang, I live in Vancouver\", \"Wow that is so cool!\")\n",
    "add_message(\"Vancouver is so pretty\", \"I wish I could go!!!\")\n",
    "add_message(\"Weather is so good too\", \"I bet\")\n",
    "add_message(\"There are a lot of tree and flowers\", \"Wow, I want to see there someday.\")\n",
    "\n",
    "get_history()"
   ]
  },
  {
   "cell_type": "code",
   "execution_count": 4,
   "metadata": {},
   "outputs": [
    {
     "data": {
      "text/plain": [
       "{'history': [SystemMessage(content=\"The human introduces themselves as YS Chang from Vancouver. The AI responds with enthusiasm, saying it's cool. YS Chang mentions that Vancouver is a beautiful city.\"),\n",
       "  AIMessage(content='I wish I could go!!!'),\n",
       "  HumanMessage(content='Weather is so good too'),\n",
       "  AIMessage(content='I bet'),\n",
       "  HumanMessage(content='There are a lot of tree and flowers'),\n",
       "  AIMessage(content='Wow, I want to see there someday.'),\n",
       "  HumanMessage(content='You can come anytime'),\n",
       "  AIMessage(content='Really?'),\n",
       "  HumanMessage(content='Go and Get airplane ticket at airport'),\n",
       "  AIMessage(content='I have to plan it')]}"
      ]
     },
     "execution_count": 4,
     "metadata": {},
     "output_type": "execute_result"
    }
   ],
   "source": [
    "\n",
    "add_message(\"You can come anytime\", \"Really?\")\n",
    "add_message(\"Go and Get airplane ticket at airport\", \"I have to plan it\")\n",
    "\n",
    "get_history()"
   ]
  }
 ],
 "metadata": {
  "kernelspec": {
   "display_name": "env",
   "language": "python",
   "name": "python3"
  },
  "language_info": {
   "codemirror_mode": {
    "name": "ipython",
    "version": 3
   },
   "file_extension": ".py",
   "mimetype": "text/x-python",
   "name": "python",
   "nbconvert_exporter": "python",
   "pygments_lexer": "ipython3",
   "version": "3.11.11"
  }
 },
 "nbformat": 4,
 "nbformat_minor": 2
}
