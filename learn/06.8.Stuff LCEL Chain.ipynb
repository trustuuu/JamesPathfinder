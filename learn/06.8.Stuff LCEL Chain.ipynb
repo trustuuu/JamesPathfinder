{
 "cells": [
  {
   "cell_type": "code",
   "execution_count": null,
   "metadata": {},
   "outputs": [
    {
     "data": {
      "text/plain": [
       "AIMessage(content=\"Sure, here are some expressions related to people's character traits:\\n\\n- Naïve\\n- Gullible\\n- Talkative\\n- Cut someone up\\n- Cut in\\n- Cut me off\\n- Thank for your two cents\\n- Make it the whole world blind\\n- Bean there, Done that\\n- Been in your shoe\\n- I have a lot on my plates\\n- It didn't go as planned\\n- To be economical with the truth\\n- Goody-Goody\\n- The other side of the coin\\n- It will come back to haunt you\\n- Take it with a grain of salt\\n- To be all talk\\n- I'm on it\\n- Beef up (on) something\\n\\nLet me know if you need more information on any of these expressions.\")"
      ]
     },
     "execution_count": 1,
     "metadata": {},
     "output_type": "execute_result"
    }
   ],
   "source": [
    "from langchain.chat_models import ChatOpenAI\n",
    "from langchain.document_loaders import UnstructuredExcelLoader\n",
    "from langchain.text_splitter import CharacterTextSplitter, RecursiveCharacterTextSplitter\n",
    "from langchain.embeddings import OpenAIEmbeddings, CacheBackedEmbeddings\n",
    "from langchain.vectorstores import Chroma\n",
    "from langchain.storage import LocalFileStore\n",
    "from langchain.prompts import ChatPromptTemplate\n",
    "from langchain.schema.runnable import RunnablePassthrough\n",
    "\n",
    "llm = ChatOpenAI(temperature=0.1)\n",
    "cache_dir = LocalFileStore(\"./.cache/\")\n",
    "\n",
    "# splitter = CharacterTextSplitter.from_tiktoken_encoder(\n",
    "#     separator=\"\\n\",\n",
    "#     chunk_size=600,\n",
    "#     chunk_overlap=100,\n",
    "# )\n",
    "# Split by newline, treating each line as a separate chunk\n",
    "splitter = RecursiveCharacterTextSplitter(\n",
    "    chunk_size=1000,  # Adjust based on your requirements\n",
    "    chunk_overlap=50,  # Overlap between chunks\n",
    "    separators=[\"\\n\"]  # Split based on newlines (you can add other separators too)\n",
    ")\n",
    "\n",
    "loader = UnstructuredExcelLoader(\"./ETC(yschang-Total).xlsx\")\n",
    "\n",
    "docs = loader.load_and_split(text_splitter=splitter)\n",
    "\n",
    "embeddings = OpenAIEmbeddings()\n",
    "\n",
    "cached_embeddings = CacheBackedEmbeddings.from_bytes_store(embeddings, cache_dir)\n",
    "\n",
    "\n",
    "vectorstore = Chroma.from_documents(docs, cached_embeddings)\n",
    "\n",
    "retriver = vectorstore.as_retriever()\n",
    "prompt = ChatPromptTemplate.from_messages([\n",
    "    (\"system\", \"You are English helpful teacher. Answer questions using only the following context. If you dont' know the answer just say you don't know, don't make it up:\\n\\n{context}\"),\n",
    "    (\"human\", \"{question}\")\n",
    "])\n",
    "\n",
    "chain = {\"context\": retriver, \"question\":RunnablePassthrough()} | prompt | llm\n",
    "\n",
    "chain.invoke(\"Could you find expression for people character words?\")"
   ]
  },
  {
   "cell_type": "code",
   "execution_count": null,
   "metadata": {},
   "outputs": [],
   "source": [
    "\n",
    "chain.invoke(\"could you give me full sentence example using people character?\")"
   ]
  }
 ],
 "metadata": {
  "kernelspec": {
   "display_name": "env",
   "language": "python",
   "name": "python3"
  },
  "language_info": {
   "codemirror_mode": {
    "name": "ipython",
    "version": 3
   },
   "file_extension": ".py",
   "mimetype": "text/x-python",
   "name": "python",
   "nbconvert_exporter": "python",
   "pygments_lexer": "ipython3",
   "version": "3.11.11"
  }
 },
 "nbformat": 4,
 "nbformat_minor": 2
}
