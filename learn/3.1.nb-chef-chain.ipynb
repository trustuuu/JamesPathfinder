{
 "cells": [
  {
   "cell_type": "code",
   "execution_count": 3,
   "metadata": {},
   "outputs": [],
   "source": [
    "from langchain.chat_models import ChatOpenAI\n",
    "from langchain.prompts import ChatPromptTemplate\n",
    "from langchain.callbacks import StreamingStdOutCallbackHandler\n",
    "\n",
    "chat = ChatOpenAI(temperature=0.1, streaming=True, callbacks=[StreamingStdOutCallbackHandler()])\n",
    "chef_template = ChatPromptTemplate.from_messages([\n",
    "    (\"system\", \"You are world-class international chef. You create easy to follow recipes for any type of cuisine with easy to find ingredients.\"),\n",
    "    (\"human\", \"I want to cook {cuisine} food.\")\n",
    "])\n",
    "\n",
    "chef_chain = chef_template | chat"
   ]
  },
  {
   "cell_type": "code",
   "execution_count": 4,
   "metadata": {},
   "outputs": [
    {
     "name": "stdout",
     "output_type": "stream",
     "text": [
      "Great choice! How about making some delicious Bibimbap? Here's a simple recipe for you to try at home:\n",
      "\n",
      "Ingredients:\n",
      "- 2 cups cooked white rice\n",
      "- 1 carrot, julienned\n",
      "- 1 zucchini, julienned\n",
      "- 1 cup spinach\n",
      "- 1 cup bean sprouts\n",
      "- 4 shiitake mushrooms, sliced\n",
      "- 1/2 pound beef (you can use ribeye or sirloin), thinly sliced\n",
      "- 4 eggs\n",
      "- 4 tablespoons gochujang (Korean red chili paste)\n",
      "- 2 tablespoons soy sauce\n",
      "- 2 tablespoons sesame oil\n",
      "- 2 cloves garlic, minced\n",
      "- Salt and pepper to taste\n",
      "- Sesame seeds for garnish\n",
      "- Vegetable oil for cooking\n",
      "\n",
      "Instructions:\n",
      "1. Marinate the beef: In a bowl, mix the beef with soy sauce, sesame oil, garlic, salt, and pepper. Let it marinate for at least 30 minutes.\n",
      "2. Cook the rice according to package instructions and set aside.\n",
      "3. In a pan, heat some vegetable oil over medium heat. Cook the marinated beef until browned and cooked through. Remove from the pan and set aside.\n",
      "4. In the same pan, add a little more oil if needed and sauté the carrots, zucchini, spinach, bean sprouts, and shiitake mushrooms separately until just cooked. Season each with a little salt and pepper.\n",
      "5. In another pan, fry the eggs sunny side up or to your liking.\n",
      "6. To assemble the Bibimbap, divide the rice among four bowls. Arrange the cooked vegetables and beef on top of the rice. Place a fried egg on top of each bowl.\n",
      "7. Serve the Bibimbap with a dollop of gochujang on top and sprinkle with sesame seeds.\n",
      "8. Mix everything together before eating to enjoy all the flavors combined.\n",
      "\n",
      "Enjoy your homemade Bibimbap!For a vegetarian version of Bibimbap, you can make a few simple swaps to replace the meat:\n",
      "\n",
      "- Instead of beef, you can use tofu as a protein alternative. Extra-firm tofu works well in this dish. Cut the tofu into thin slices or cubes and marinate it in a mixture of soy sauce, sesame oil, garlic, salt, and pepper for at least 30 minutes before cooking.\n",
      "\n",
      "- Heat some vegetable oil in a pan over medium heat and cook the marinated tofu until browned and slightly crispy. Remove from the pan and set aside.\n",
      "\n",
      "Follow the rest of the recipe as instructed, replacing the beef with the cooked tofu. The tofu will absorb the flavors of the marinade and work well with the other vegetables and gochujang sauce in the Bibimbap.\n",
      "\n",
      "Enjoy your vegetarian Bibimbap!"
     ]
    },
    {
     "data": {
      "text/plain": [
       "AIMessageChunk(content='For a vegetarian version of Bibimbap, you can make a few simple swaps to replace the meat:\\n\\n- Instead of beef, you can use tofu as a protein alternative. Extra-firm tofu works well in this dish. Cut the tofu into thin slices or cubes and marinate it in a mixture of soy sauce, sesame oil, garlic, salt, and pepper for at least 30 minutes before cooking.\\n\\n- Heat some vegetable oil in a pan over medium heat and cook the marinated tofu until browned and slightly crispy. Remove from the pan and set aside.\\n\\nFollow the rest of the recipe as instructed, replacing the beef with the cooked tofu. The tofu will absorb the flavors of the marinade and work well with the other vegetables and gochujang sauce in the Bibimbap.\\n\\nEnjoy your vegetarian Bibimbap!')"
      ]
     },
     "execution_count": 4,
     "metadata": {},
     "output_type": "execute_result"
    }
   ],
   "source": [
    "veg_chef_prompt = ChatPromptTemplate.from_messages([\n",
    "    (\"system\", \"You are a vegetarian chef specialized on making traditional recipies vegetarian. You find alternative ingredients and explain their preparation.\"\n",
    "    \"You don't radically modify the recipe. if there is no alternative for a food just say you don't know how to replace it.\"),\n",
    "    (\"human\", \"{recipe}\")\n",
    "])\n",
    "\n",
    "veg_chain = veg_chef_prompt | chat\n",
    "\n",
    "final_chain = {\"recipe\": chef_chain} | veg_chain\n",
    "final_chain.invoke({\"cuisine\": \"korean\"})"
   ]
  }
 ],
 "metadata": {
  "kernelspec": {
   "display_name": "env",
   "language": "python",
   "name": "python3"
  },
  "language_info": {
   "codemirror_mode": {
    "name": "ipython",
    "version": 3
   },
   "file_extension": ".py",
   "mimetype": "text/x-python",
   "name": "python",
   "nbconvert_exporter": "python",
   "pygments_lexer": "ipython3",
   "version": "3.11.11"
  }
 },
 "nbformat": 4,
 "nbformat_minor": 2
}
